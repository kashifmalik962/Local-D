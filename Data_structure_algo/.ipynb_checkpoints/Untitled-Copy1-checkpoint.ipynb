{
 "cells": [
  {
   "cell_type": "code",
   "execution_count": 1,
   "id": "24430591",
   "metadata": {},
   "outputs": [],
   "source": [
    "stock_price = []\n",
    "with open('stock_price.csv','r') as f:\n",
    "    for line in f:\n",
    "        tokens = line.split(',')\n",
    "        day = tokens[0]\n",
    "        price = float(tokens[1])\n",
    "        stock_price.append([day,price])"
   ]
  },
  {
   "cell_type": "code",
   "execution_count": 2,
   "id": "680fc1de",
   "metadata": {},
   "outputs": [
    {
     "data": {
      "text/plain": [
       "[['06-Mar', 310.0],\n",
       " ['07-Mar', 340.0],\n",
       " ['08-Mar', 380.0],\n",
       " ['09-Mar', 302.0],\n",
       " ['10-Mar', 297.0],\n",
       " ['11-Mar', 323.0]]"
      ]
     },
     "execution_count": 2,
     "metadata": {},
     "output_type": "execute_result"
    }
   ],
   "source": [
    "stock_price"
   ]
  },
  {
   "cell_type": "code",
   "execution_count": 3,
   "id": "2dbb8974",
   "metadata": {},
   "outputs": [
    {
     "name": "stdout",
     "output_type": "stream",
     "text": [
      "380.0\n"
     ]
    }
   ],
   "source": [
    "for i in stock_price:\n",
    "    if i[0] == '08-Mar':\n",
    "        print(i[1])"
   ]
  },
  {
   "cell_type": "code",
   "execution_count": 8,
   "id": "3e5dc27e",
   "metadata": {},
   "outputs": [],
   "source": [
    "stock_price = {}\n",
    "with open('stock_price.csv','r') as f:\n",
    "    for line in f:\n",
    "        tokens = line.split(',')\n",
    "        day = tokens[0]\n",
    "        price = float(tokens[1])\n",
    "        stock_price[day]=price"
   ]
  },
  {
   "cell_type": "code",
   "execution_count": 9,
   "id": "c986332b",
   "metadata": {},
   "outputs": [
    {
     "data": {
      "text/plain": [
       "{'06-Mar': 310.0,\n",
       " '07-Mar': 340.0,\n",
       " '08-Mar': 380.0,\n",
       " '09-Mar': 302.0,\n",
       " '10-Mar': 297.0,\n",
       " '11-Mar': 323.0}"
      ]
     },
     "execution_count": 9,
     "metadata": {},
     "output_type": "execute_result"
    }
   ],
   "source": [
    "stock_price"
   ]
  },
  {
   "cell_type": "code",
   "execution_count": 11,
   "id": "75df905d",
   "metadata": {},
   "outputs": [
    {
     "data": {
      "text/plain": [
       "302.0"
      ]
     },
     "execution_count": 11,
     "metadata": {},
     "output_type": "execute_result"
    }
   ],
   "source": [
    "stock_price['09-Mar']"
   ]
  },
  {
   "cell_type": "code",
   "execution_count": null,
   "id": "aea2a030",
   "metadata": {},
   "outputs": [],
   "source": []
  },
  {
   "cell_type": "code",
   "execution_count": 13,
   "id": "c8a4bbaf",
   "metadata": {},
   "outputs": [],
   "source": [
    "def get_hash(key):\n",
    "    h = 0\n",
    "    for char in key:\n",
    "        h+=ord(char)\n",
    "    return h % 10"
   ]
  },
  {
   "cell_type": "code",
   "execution_count": 19,
   "id": "a2bc1e09",
   "metadata": {},
   "outputs": [
    {
     "data": {
      "text/plain": [
       "0"
      ]
     },
     "execution_count": 19,
     "metadata": {},
     "output_type": "execute_result"
    }
   ],
   "source": [
    "get_hash('march 7')"
   ]
  },
  {
   "cell_type": "code",
   "execution_count": 89,
   "id": "557fd7b4",
   "metadata": {},
   "outputs": [],
   "source": [
    "class Hashtable:\n",
    "    def __init__(self):\n",
    "        self.max = 100\n",
    "        self.arr = [None for i in range(self.max)]\n",
    "        \n",
    "    def get_hash(self,key):\n",
    "        h = 0\n",
    "        for char in key:\n",
    "            h+=ord(char)\n",
    "        return h % self.max\n",
    "    \n",
    "    def add(self,key,val):\n",
    "        h = self.get_hash(key)\n",
    "        self.arr[h] = val\n",
    "\n",
    "    def get(self,key):\n",
    "        h = self.get_hash(key)\n",
    "        return self.arr[h]\n",
    "    \n",
    "    def delete(self,key):\n",
    "        h = self.get_hash(key)\n",
    "        self.arr[h] = None\n",
    "        print(self.arr)"
   ]
  },
  {
   "cell_type": "code",
   "execution_count": 90,
   "id": "c66eea9f",
   "metadata": {},
   "outputs": [],
   "source": [
    "ob = Hashtable()"
   ]
  },
  {
   "cell_type": "code",
   "execution_count": 91,
   "id": "cccbf5a7",
   "metadata": {},
   "outputs": [
    {
     "data": {
      "text/plain": [
       "9"
      ]
     },
     "execution_count": 91,
     "metadata": {},
     "output_type": "execute_result"
    }
   ],
   "source": [
    "ob.get_hash('march 6')"
   ]
  },
  {
   "cell_type": "code",
   "execution_count": 92,
   "id": "c8331c87",
   "metadata": {},
   "outputs": [],
   "source": [
    "ob.add('march 6',310)"
   ]
  },
  {
   "cell_type": "code",
   "execution_count": 93,
   "id": "4d445fc8",
   "metadata": {},
   "outputs": [
    {
     "data": {
      "text/plain": [
       "310"
      ]
     },
     "execution_count": 93,
     "metadata": {},
     "output_type": "execute_result"
    }
   ],
   "source": [
    "ob.get('march 6')"
   ]
  },
  {
   "cell_type": "code",
   "execution_count": 94,
   "id": "8a2fa482",
   "metadata": {},
   "outputs": [
    {
     "name": "stdout",
     "output_type": "stream",
     "text": [
      "[None, None, None, None, None, None, None, None, None, None, None, None, None, None, None, None, None, None, None, None, None, None, None, None, None, None, None, None, None, None, None, None, None, None, None, None, None, None, None, None, None, None, None, None, None, None, None, None, None, None, None, None, None, None, None, None, None, None, None, None, None, None, None, None, None, None, None, None, None, None, None, None, None, None, None, None, None, None, None, None, None, None, None, None, None, None, None, None, None, None, None, None, None, None, None, None, None, None, None, None]\n"
     ]
    }
   ],
   "source": [
    "ob.delete('march 6')"
   ]
  },
  {
   "cell_type": "code",
   "execution_count": null,
   "id": "f2094b5f",
   "metadata": {},
   "outputs": [],
   "source": []
  }
 ],
 "metadata": {
  "kernelspec": {
   "display_name": "Python 3 (ipykernel)",
   "language": "python",
   "name": "python3"
  },
  "language_info": {
   "codemirror_mode": {
    "name": "ipython",
    "version": 3
   },
   "file_extension": ".py",
   "mimetype": "text/x-python",
   "name": "python",
   "nbconvert_exporter": "python",
   "pygments_lexer": "ipython3",
   "version": "3.11.4"
  }
 },
 "nbformat": 4,
 "nbformat_minor": 5
}
